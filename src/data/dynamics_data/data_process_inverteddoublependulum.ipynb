{
 "cells": [
  {
   "cell_type": "code",
   "execution_count": 7,
   "metadata": {},
   "outputs": [],
   "source": [
    "import numpy as np\n",
    "import matplotlib.pyplot as plt"
   ]
  },
  {
   "cell_type": "markdown",
   "metadata": {},
   "source": [
    "## Training data normalization"
   ]
  },
  {
   "cell_type": "code",
   "execution_count": 8,
   "metadata": {},
   "outputs": [
    {
     "name": "stdout",
     "output_type": "stream",
     "text": [
      "(92064, 2)\n"
     ]
    }
   ],
   "source": [
    "env = 'inverteddoublependulum'\n",
    "prefix=env+'/'\n",
    "raw_data = np.load(prefix+'dynamics.npy', allow_pickle=True)\n",
    "print(raw_data.shape)"
   ]
  },
  {
   "cell_type": "code",
   "execution_count": 9,
   "metadata": {},
   "outputs": [
    {
     "name": "stdout",
     "output_type": "stream",
     "text": [
      "(92064, 5)\n",
      "[array([0.16154307, 9.740149  , 0.6109008 , 0.60664666, 1.0140377 ],\n",
      "      dtype=float32), array([0.08051212, 0.720381  , 0.17322679, 0.17211911, 0.28749457],\n",
      "      dtype=float32)]\n"
     ]
    }
   ],
   "source": [
    "# mean and std before normalization\n",
    "param_data = np.vstack(np.vstack(raw_data[:, 0])[:, -1])\n",
    "print(param_data.shape)\n",
    "norm_factor = []\n",
    "m_vec = []\n",
    "std_vec = []\n",
    "for dim in range(param_data.shape[1]):\n",
    "    m=np.mean(param_data.T[dim])\n",
    "    std=np.std(param_data.T[dim])\n",
    "    m_vec.append(m)\n",
    "    std_vec.append(std)\n",
    "m_vec = np.array(m_vec)\n",
    "std_vec = np.array(std_vec)\n",
    "norm_factor=[m_vec, std_vec]\n",
    "np.save(prefix+'norm_factor.npy', norm_factor)\n",
    "print(norm_factor)"
   ]
  },
  {
   "cell_type": "code",
   "execution_count": 10,
   "metadata": {},
   "outputs": [
    {
     "name": "stdout",
     "output_type": "stream",
     "text": [
      "0\n",
      "5000\n",
      "10000\n",
      "15000\n",
      "20000\n",
      "25000\n",
      "30000\n",
      "35000\n",
      "40000\n",
      "45000\n",
      "50000\n",
      "55000\n",
      "60000\n",
      "65000\n",
      "70000\n",
      "75000\n",
      "80000\n",
      "85000\n",
      "90000\n",
      "(92064, 2)\n"
     ]
    }
   ],
   "source": [
    "# normalize the data with calculated mean and std\n",
    "processed_data = raw_data.copy()\n",
    "for i in range(processed_data.shape[0]):\n",
    "    if i % 5000 ==0:\n",
    "        print(i)\n",
    "    processed_data[i][0][-1] = ((processed_data[i][0][-1] - m_vec)/std_vec).tolist()\n",
    "print(processed_data.shape)\n",
    "np.save(prefix+'norm_dynamics.npy', processed_data)"
   ]
  },
  {
   "cell_type": "code",
   "execution_count": 11,
   "metadata": {},
   "outputs": [
    {
     "name": "stdout",
     "output_type": "stream",
     "text": [
      "(92064, 5)\n",
      "2.454712887226034e-08 1.000000032542509\n",
      "2.469034677938812e-07 0.9999999705924842\n",
      "3.315874034978144e-08 1.0000000386893013\n",
      "1.8812940097148562e-07 1.0000000505682511\n",
      "-3.997461339737444e-09 1.0000000543790397\n"
     ]
    }
   ],
   "source": [
    "# mean and std after normalization\n",
    "m_vec = []\n",
    "std_vec = []\n",
    "param_data_ = np.vstack(np.vstack(processed_data[:, 0])[:, -1])\n",
    "print(param_data_.shape)\n",
    "for dim in range(param_data_.shape[1]):\n",
    "    m=np.mean(param_data_.T[dim])\n",
    "    std=np.std(param_data_.T[dim])\n",
    "    m_vec.append(m)\n",
    "    std_vec.append(std)\n",
    "    print(m, std)"
   ]
  },
  {
   "cell_type": "code",
   "execution_count": 12,
   "metadata": {},
   "outputs": [
    {
     "name": "stdout",
     "output_type": "stream",
     "text": [
      "[[0.16154307 9.740149   0.6109008  0.60664666 1.0140377 ]\n",
      " [0.08051212 0.720381   0.17322679 0.17211911 0.28749457]]\n"
     ]
    }
   ],
   "source": [
    "f = np.load(prefix+'norm_factor.npy')\n",
    "print(f)"
   ]
  },
  {
   "cell_type": "markdown",
   "metadata": {},
   "source": [
    "## Test data analysis"
   ]
  },
  {
   "cell_type": "code",
   "execution_count": 31,
   "metadata": {},
   "outputs": [],
   "source": [
    "import numpy as np\n",
    "import matplotlib.pyplot as plt\n"
   ]
  },
  {
   "cell_type": "code",
   "execution_count": 32,
   "metadata": {},
   "outputs": [],
   "source": [
    "def smooth(y, radius=10, mode='two_sided'):\n",
    "    if len(y) < 2*radius+1:\n",
    "        return np.ones_like(y) * y.mean()\n",
    "    elif mode == 'two_sided':\n",
    "        convkernel = np.ones(2 * radius+1)\n",
    "        return np.convolve(y, convkernel, mode='same') / \\\n",
    "               np.convolve(np.ones_like(y), convkernel, mode='same')\n",
    "    elif mode == 'causal':\n",
    "        convkernel = np.ones(radius)\n",
    "        out = np.convolve(y, convkernel,mode='full') / \\\n",
    "              np.convolve(np.ones_like(y), convkernel, mode='full')\n",
    "        return out[:-radius+1]\n",
    "\n",
    "def plot_with_fill(x, data, label, color=None):\n",
    "    y_m=np.mean(data, axis=0)\n",
    "    y_std=np.std(data, axis=0)\n",
    "    y_upper=y_m+y_std\n",
    "    y_lower=y_m-y_std\n",
    "    if color is not None:\n",
    "        plt.fill_between(\n",
    "        x, list(y_lower), list(y_upper), interpolate=True, facecolor=color, linewidth=0.0, alpha=0.3\n",
    "    )   \n",
    "    else:\n",
    "        plt.fill_between(\n",
    "        x, list(y_lower), list(y_upper), interpolate=True, linewidth=0.0, alpha=0.3\n",
    "    )     \n",
    "    plt.plot(x, list(y_m), color=color, label=label)\n",
    "    \n",
    "def remove_abnormal(data):\n",
    "    data_=[]\n",
    "    for i in range(data.shape[0]):\n",
    "        s = np.sum(data[i])\n",
    "        if np.isnan(s) or s>1e10:\n",
    "            print(i)\n",
    "        else:\n",
    "            data_.append(data[i])\n",
    "    return np.array(data_)"
   ]
  },
  {
   "cell_type": "code",
   "execution_count": 41,
   "metadata": {},
   "outputs": [
    {
     "data": {
      "text/plain": [
       "(50, 2, 300)"
      ]
     },
     "execution_count": 41,
     "metadata": {},
     "output_type": "execute_result"
    }
   ],
   "source": [
    "Type = ['EncoderDynamicsNetwork', 'EncoderDecoderDynamicsNetwork', 'VAEDynamicsNetwork'][0]\n",
    "test_data = np.load('{}_dynamics_test.npy'.format(Type))\n",
    "test_data.shape"
   ]
  },
  {
   "cell_type": "code",
   "execution_count": 42,
   "metadata": {},
   "outputs": [
    {
     "name": "stdout",
     "output_type": "stream",
     "text": [
      "(50, 300)\n"
     ]
    }
   ],
   "source": [
    "diff=test_data[:, 0]\n",
    "relative_diff=test_data[:, 1]\n",
    "print(diff.shape)"
   ]
  },
  {
   "cell_type": "code",
   "execution_count": 43,
   "metadata": {
    "scrolled": true
   },
   "outputs": [
    {
     "name": "stdout",
     "output_type": "stream",
     "text": [
      "0\n",
      "1\n",
      "2\n",
      "3\n",
      "4\n",
      "5\n",
      "6\n",
      "7\n",
      "9\n",
      "10\n",
      "12\n",
      "13\n",
      "14\n",
      "15\n",
      "16\n",
      "18\n",
      "19\n",
      "20\n",
      "22\n",
      "23\n",
      "24\n",
      "25\n",
      "26\n",
      "28\n",
      "30\n",
      "32\n",
      "34\n",
      "35\n",
      "37\n",
      "39\n",
      "41\n",
      "42\n",
      "43\n",
      "45\n",
      "46\n",
      "47\n",
      "48\n",
      "49\n"
     ]
    },
    {
     "data": {
      "image/png": "[encoded data removed]",
      "text/plain": [
       "<Figure size 432x288 with 1 Axes>"
      ]
     },
     "metadata": {
      "needs_background": "light"
     },
     "output_type": "display_data"
    }
   ],
   "source": [
    "x=np.arange(diff_.shape[1])\n",
    "diff_ = remove_abnormal(diff)\n",
    "plt.xlabel('episode')\n",
    "plt.ylabel('absolute MSE')\n",
    "plt.grid()\n",
    "plot_with_fill(x, diff_, label='absolute error')"
   ]
  },
  {
   "cell_type": "code",
   "execution_count": 44,
   "metadata": {},
   "outputs": [
    {
     "name": "stdout",
     "output_type": "stream",
     "text": [
      "0\n",
      "1\n",
      "2\n",
      "3\n",
      "4\n",
      "5\n",
      "6\n",
      "7\n",
      "9\n",
      "10\n",
      "12\n",
      "13\n",
      "14\n",
      "15\n",
      "16\n",
      "18\n",
      "19\n",
      "20\n",
      "22\n",
      "23\n",
      "24\n",
      "25\n",
      "26\n",
      "28\n",
      "30\n",
      "32\n",
      "34\n",
      "35\n",
      "37\n",
      "39\n",
      "41\n",
      "42\n",
      "43\n",
      "45\n",
      "46\n",
      "47\n",
      "48\n",
      "49\n"
     ]
    },
    {
     "data": {
      "image/png": "[encoded data removed]",
      "text/plain": [
       "<Figure size 432x288 with 1 Axes>"
      ]
     },
     "metadata": {
      "needs_background": "light"
     },
     "output_type": "display_data"
    }
   ],
   "source": [
    "relative_diff_ = remove_abnormal(relative_diff)\n",
    "plt.xlabel('episode')\n",
    "plt.ylabel('relative MSE (\\%)')\n",
    "plt.grid()\n",
    "plot_with_fill(x, relative_diff_, label='relative error')"
   ]
  },
  {
   "cell_type": "code",
   "execution_count": 2,
   "metadata": {},
   "outputs": [],
   "source": [
    "a=[2,34,3.53]\n",
    "b=[2,34,3.5]\n",
    "if a==b:\n",
    "    print(True)"
   ]
  },
  {
   "cell_type": "code",
   "execution_count": null,
   "metadata": {},
   "outputs": [],
   "source": []
  }
 ],
 "metadata": {
  "kernelspec": {
   "display_name": "Python 3",
   "language": "python",
   "name": "python3"
  },
  "language_info": {
   "codemirror_mode": {
    "name": "ipython",
    "version": 3
   },
   "file_extension": ".py",
   "mimetype": "text/x-python",
   "name": "python",
   "nbconvert_exporter": "python",
   "pygments_lexer": "ipython3",
   "version": "3.7.9"
  }
 },
 "nbformat": 4,
 "nbformat_minor": 2
}
