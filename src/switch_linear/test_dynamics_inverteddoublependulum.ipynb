{
 "cells": [
  {
   "cell_type": "code",
   "execution_count": 2,
   "metadata": {},
   "outputs": [
    {
     "name": "stdout",
     "output_type": "stream",
     "text": [
      "/home/quantumiracle/research/COS513_project/src\n"
     ]
    }
   ],
   "source": [
    "import numpy as np\n",
    "import matplotlib.pyplot as plt\n",
    "import os\n",
    "path = os.path.abspath(os.path.join(os.getcwd(),\"..\"))\n",
    "print(path)\n",
    "import sys, os\n",
    "sys.path.append(os.path.dirname(os.getcwd()))\n",
    "from dynamics_predict.dynamics_networks import DynamicsNetwork, DynamicsParamsOptimizer, EncoderDynamicsNetwork, EncoderDecoderDynamicsNetwork, VAEDynamicsNetwork\n",
    "from rl.policy_networks import DPG_PolicyNetwork\n",
    "from utils.load_params import load_params\n",
    "from utils.common_func import rand_params\n",
    "from dynamics_predict.defaults import DYNAMICS_PARAMS, HYPER_PARAMS\n",
    "from environment import envs\n",
    "import torch\n",
    "\n"
   ]
  },
  {
   "cell_type": "code",
   "execution_count": 5,
   "metadata": {},
   "outputs": [
    {
     "name": "stdout",
     "output_type": "stream",
     "text": [
      "parameter dimension:  5\n"
     ]
    }
   ],
   "source": [
    "env_name = 'inverteddoublependulum'\n",
    "data_path = path+'/data/dynamics_data/'+env_name+'/test_dynamics.npy'\n",
    "param_dim = len(DYNAMICS_PARAMS[env_name+'dynamics'])\n",
    "print('parameter dimension: ', param_dim)"
   ]
  },
  {
   "cell_type": "code",
   "execution_count": 6,
   "metadata": {},
   "outputs": [
    {
     "name": "stdout",
     "output_type": "stream",
     "text": [
      "number of samples in dest data:  10\n",
      "torch.Size([275717, 12]) torch.Size([275717, 11])\n",
      "true parameters:  [0.04490007 9.947507   0.4617513  0.6338595  1.1446342 ]\n"
     ]
    }
   ],
   "source": [
    "test_data = np.load(data_path, allow_pickle=True)\n",
    "print('number of samples in dest data: ', len(test_data))\n",
    "idx=5  # index of sample to test: 0-10\n",
    "sa = test_data[idx]['sa']\n",
    "s_ = test_data[idx]['s_']\n",
    "params = test_data[idx]['params'] # true parameters\n",
    "sa = torch.Tensor(sa)\n",
    "s_ = torch.Tensor(s_)\n",
    "print(sa.shape, s_.shape)\n",
    "print('true parameters: ', params)"
   ]
  },
  {
   "cell_type": "markdown",
   "metadata": {},
   "source": [
    "## Switch Linear Dynamics"
   ]
  },
  {
   "cell_type": "code",
   "execution_count": 8,
   "metadata": {},
   "outputs": [
    {
     "ename": "NameError",
     "evalue": "name 'nn' is not defined",
     "output_type": "error",
     "traceback": [
      "\u001b[0;31m---------------------------------------------------------------------------\u001b[0m",
      "\u001b[0;31mNameError\u001b[0m                                 Traceback (most recent call last)",
      "\u001b[0;32m/tmp/ipykernel_491714/2818329530.py\u001b[0m in \u001b[0;36m<module>\u001b[0;34m\u001b[0m\n\u001b[1;32m     24\u001b[0m \u001b[0;34m\u001b[0m\u001b[0m\n\u001b[1;32m     25\u001b[0m \u001b[0;34m\u001b[0m\u001b[0m\n\u001b[0;32m---> 26\u001b[0;31m \u001b[0;32mclass\u001b[0m \u001b[0mSLDynamicsNetwork\u001b[0m\u001b[0;34m(\u001b[0m\u001b[0mnn\u001b[0m\u001b[0;34m.\u001b[0m\u001b[0mModule\u001b[0m\u001b[0;34m)\u001b[0m\u001b[0;34m:\u001b[0m\u001b[0;34m\u001b[0m\u001b[0m\n\u001b[0m\u001b[1;32m     27\u001b[0m     \u001b[0;32mdef\u001b[0m \u001b[0m__init__\u001b[0m\u001b[0;34m(\u001b[0m\u001b[0mself\u001b[0m\u001b[0;34m,\u001b[0m \u001b[0mstate_dim\u001b[0m\u001b[0;34m,\u001b[0m \u001b[0maction_dim\u001b[0m\u001b[0;34m,\u001b[0m \u001b[0mparam_dim\u001b[0m\u001b[0;34m,\u001b[0m \u001b[0mlatent_dim\u001b[0m\u001b[0;34m,\u001b[0m \u001b[0mswitch_dim\u001b[0m\u001b[0;34m)\u001b[0m\u001b[0;34m:\u001b[0m\u001b[0;34m\u001b[0m\u001b[0m\n\u001b[1;32m     28\u001b[0m         \u001b[0mself\u001b[0m\u001b[0;34m.\u001b[0m\u001b[0mA\u001b[0m \u001b[0;34m=\u001b[0m \u001b[0mtorch\u001b[0m\u001b[0;34m.\u001b[0m\u001b[0mrand\u001b[0m\u001b[0;34m(\u001b[0m\u001b[0;34m(\u001b[0m\u001b[0mswitch_dim\u001b[0m\u001b[0;34m,\u001b[0m \u001b[0mstate_dim\u001b[0m\u001b[0;34m,\u001b[0m \u001b[0mstate_dim\u001b[0m\u001b[0;34m)\u001b[0m\u001b[0;34m)\u001b[0m\u001b[0;34m\u001b[0m\u001b[0m\n",
      "\u001b[0;31mNameError\u001b[0m: name 'nn' is not defined"
     ]
    }
   ],
   "source": [
    "from torch.distributions import Normal\n",
    "import torch.nn.functional as F\n",
    "import torch.nn as nn\n",
    "\n",
    "\n",
    "class DynamicsParamsOptimizer():\n",
    "    \"\"\" \n",
    "    Dynamics parameters optimization model (gradient-based) based on a trained \n",
    "    forward dynamics prediction network: (s, a, learnable_params) -> s_ with real-world data. \n",
    "    \"\"\"\n",
    "    def __init__(self, state_space, action_space, param_dim, param_ini_v, hidden_dim=256, hidden_activation=F.relu, output_activation=None, num_hidden_layers=4, lr=1e-2, gamma=0.99):\n",
    "        self.model = SLDynamicsNetwork(state_dim, action_dim, param_dim, switch_dim)\n",
    "        self.criterion = nn.MSELoss()\n",
    "\n",
    "    def train(self, s, a, theta, s_, epoch):\n",
    "        \"\"\" s,a concat with param (learnable) -> s_ \"\"\"\n",
    "\n",
    "        for ep in range(epoch):\n",
    "            s_pred = self.model.forward(s, a, theta)\n",
    "            self.model.optimizer.zero_grad()\n",
    "            loss = self.criterion(s_pred, s_)\n",
    "            loss.backward()\n",
    "            self.model.optimizer.step()\n",
    "            if ep%100==0:\n",
    "                print('epoch: {}, loss: {}'.format(ep, loss.item()))\n",
    "            \n",
    "\n",
    "class SLDynamicsNetwork(nn.Module):\n",
    "    def __init__(self, state_dim, action_dim, param_dim, latent_dim, switch_dim):\n",
    "        self.A = torch.rand((switch_dim, state_dim, state_dim))\n",
    "        self.B = torch.rand((switch_dim, state_dim, action_dim))\n",
    "        self.E = torch.rand((param_dim, latent_dim))\n",
    "        self.epsilon = self.gaussian_noise(state_dim, scale=0.1)\n",
    "        self.switch_logits = torch.nn.Sequential(\n",
    "            nn.Linear(state_dim, switch_dim)\n",
    "        )\n",
    "        self.optimizer = torch.optim.Adam(self.parameters(), lr=lr)\n",
    "\n",
    "    def gaussian_noise(self, state_dim, scale):\n",
    "        normal = Normal(0, 1)\n",
    "        epsilon = scale * normal.sample(state_dim) \n",
    "        return epsilon\n",
    "\n",
    "    def forward(self, s, a, theta):\n",
    "        if not isinstance(s, torch.Tensor):\n",
    "            s = torch.Tensor(s)\n",
    "        if not isinstance(a, torch.Tensor):\n",
    "            a = torch.Tensor(a)\n",
    "        if not isinstance(theta, torch.Tensor):\n",
    "            theta = torch.Tensor(theta)\n",
    "\n",
    "        logits_ = self.switch_logits(s)\n",
    "        switch_var = F.gumbel_softmax(logits, tau=1, hard=False)  # if hard, return one-hot\n",
    "        A_w = switch_var @ self.A  # chosen by the switch variable\n",
    "        B_w = switch_var @ self.B  # chosen by the switch variable\n",
    "        s_ = self.E@theta@(A_w@s + B_w@a) + self.epsilon\n",
    "\n",
    "        return s_\n"
   ]
  },
  {
   "cell_type": "code",
   "execution_count": 5,
   "metadata": {},
   "outputs": [
    {
     "ename": "ValueError",
     "evalue": "matmul: Input operand 1 has a mismatch in its core dimension 0, with gufunc signature (n?,k),(k,m?)->(n?,m?) (size 4 is different from 3)",
     "output_type": "error",
     "traceback": [
      "\u001b[0;31m---------------------------------------------------------------------------\u001b[0m",
      "\u001b[0;31mValueError\u001b[0m                                Traceback (most recent call last)",
      "\u001b[0;32m/tmp/ipykernel_491714/301150754.py\u001b[0m in \u001b[0;36m<module>\u001b[0;34m\u001b[0m\n\u001b[1;32m      3\u001b[0m \u001b[0ma\u001b[0m\u001b[0;34m=\u001b[0m\u001b[0mnp\u001b[0m\u001b[0;34m.\u001b[0m\u001b[0mrandom\u001b[0m\u001b[0;34m.\u001b[0m\u001b[0muniform\u001b[0m\u001b[0;34m(\u001b[0m\u001b[0;36m0\u001b[0m\u001b[0;34m,\u001b[0m\u001b[0;36m1\u001b[0m\u001b[0;34m,\u001b[0m \u001b[0msize\u001b[0m\u001b[0;34m=\u001b[0m\u001b[0;34m(\u001b[0m\u001b[0;36m4\u001b[0m\u001b[0;34m,\u001b[0m\u001b[0;36m3\u001b[0m\u001b[0;34m)\u001b[0m\u001b[0;34m)\u001b[0m\u001b[0;34m\u001b[0m\u001b[0m\n\u001b[1;32m      4\u001b[0m \u001b[0mb\u001b[0m\u001b[0;34m=\u001b[0m\u001b[0mnp\u001b[0m\u001b[0;34m.\u001b[0m\u001b[0mrandom\u001b[0m\u001b[0;34m.\u001b[0m\u001b[0muniform\u001b[0m\u001b[0;34m(\u001b[0m\u001b[0;36m0\u001b[0m\u001b[0;34m,\u001b[0m\u001b[0;36m1\u001b[0m\u001b[0;34m,\u001b[0m \u001b[0msize\u001b[0m\u001b[0;34m=\u001b[0m\u001b[0;34m(\u001b[0m\u001b[0;36m3\u001b[0m\u001b[0;34m,\u001b[0m\u001b[0;36m4\u001b[0m\u001b[0;34m,\u001b[0m\u001b[0;36m2\u001b[0m\u001b[0;34m)\u001b[0m\u001b[0;34m)\u001b[0m\u001b[0;34m\u001b[0m\u001b[0m\n\u001b[0;32m----> 5\u001b[0;31m \u001b[0mc\u001b[0m\u001b[0;34m=\u001b[0m\u001b[0mnp\u001b[0m\u001b[0;34m.\u001b[0m\u001b[0mmatmul\u001b[0m\u001b[0;34m(\u001b[0m\u001b[0ma\u001b[0m\u001b[0;34m,\u001b[0m \u001b[0mb\u001b[0m\u001b[0;34m)\u001b[0m\u001b[0;34m\u001b[0m\u001b[0m\n\u001b[0m\u001b[1;32m      6\u001b[0m \u001b[0mprint\u001b[0m\u001b[0;34m(\u001b[0m\u001b[0mc\u001b[0m\u001b[0;34m.\u001b[0m\u001b[0mshape\u001b[0m\u001b[0;34m)\u001b[0m\u001b[0;34m\u001b[0m\u001b[0m\n",
      "\u001b[0;31mValueError\u001b[0m: matmul: Input operand 1 has a mismatch in its core dimension 0, with gufunc signature (n?,k),(k,m?)->(n?,m?) (size 4 is different from 3)"
     ]
    }
   ],
   "source": [
    "import numpy as np\n",
    "\n",
    "a=np.random.uniform(0,1, size=(4,3))\n",
    "b=np.random.uniform(0,1, size=(3,4,2))\n",
    "c=np.matmul(a, b)\n",
    "print(c.shape)\n"
   ]
  },
  {
   "cell_type": "markdown",
   "metadata": {},
   "source": [
    "## 1. Direct optimization through NN"
   ]
  },
  {
   "cell_type": "code",
   "execution_count": null,
   "metadata": {},
   "outputs": [],
   "source": [
    "def train_params(Env, embedding, epoch=1000, lr=1e-2, dynamics_model_path='./', env_settings={}, default_params={}, data_path='./'):\n",
    "    \"\"\"\n",
    "    Train the dynamics parameters with a trained/fixed dynamics prediction model, using the real-world dataset.\n",
    "    Model input: state, action, dynamics parameters (learnable).\n",
    "    Model output: next state.\n",
    "    \"\"\"\n",
    "    env = Env(**env_settings, **default_params)\n",
    "    if embedding:\n",
    "        param_dim = HYPER_PARAMS[Env.name+'dynamics']['latent_dim']\n",
    "        param_ini_v = np.zeros(param_dim)\n",
    "        model = DynamicsParamsOptimizer(env.observation_space, env.action_space, param_dim, param_ini_v, num_hidden_layers=6, lr=lr)\n",
    "    else:\n",
    "        param_dim = len(DYNAMICS_PARAMS[Env.name+'dynamics'])\n",
    "        param_ini_v = [np.mean(v) for k, v in env.parameters_spec.items() if k in DYNAMICS_PARAMS[Env.name+'dynamics']]\n",
    "        model = DynamicsParamsOptimizer(env.observation_space, env.action_space, param_dim, param_ini_v, num_hidden_layers=6, lr=lr)\n",
    "    model.dynamics_model.load_state_dict(torch.load(dynamics_model_path))\n",
    "    model.dynamics_model.eval()\n",
    "\n",
    "#     sa = np.load(data_path+'/sa.npy')\n",
    "#     s_ = np.load(data_path+'/s_.npy')\n",
    "\n",
    "    for ep in range(epoch):\n",
    "        s_pred = model.forward(sa)\n",
    "        model.optimizer.zero_grad()\n",
    "        loss = model.criterion(s_pred, s_)\n",
    "        loss.backward()\n",
    "        model.optimizer.step()\n",
    "        if ep%100==0:\n",
    "            print('epoch: {}, loss: {}'.format(ep, loss.item()))\n",
    "        \n",
    "    return model.params"
   ]
  },
  {
   "cell_type": "code",
   "execution_count": null,
   "metadata": {},
   "outputs": [],
   "source": [
    "Env = envs[env_name]  # pandapushik2dsimple', 'inverteddoublependulum'\n",
    "Type = ['EncoderDynamicsNetwork', 'EncoderDecoderDynamicsNetwork', 'VAEDynamicsNetwork'][2]\n",
    "\n",
    "alpha = train_params(Env, embedding=True, \\\n",
    "              dynamics_model_path=path+'/data/dynamics_data/{}/model/{}_dim{}/dynamics'.format(env_name, Type, str(param_dim)), \\\n",
    "                   lr=1e-3,   epoch=100, data_path=data_path)\n",
    "print('Method 1: predicted encoded parameters: ', alpha)"
   ]
  },
  {
   "cell_type": "code",
   "execution_count": null,
   "metadata": {},
   "outputs": [],
   "source": [
    "from dynamics_predict.dynamics_networks import DynamicsEncoder, DynamicsVariationalEncoder\n",
    "\n",
    "# load encoder\n",
    "if Type in ['EncoderDynamicsNetwork', 'EncoderDecoderDynamicsNetwork']:  # normal encoder\n",
    "    encoder = DynamicsEncoder(param_dim=len(DYNAMICS_PARAMS[env_name]), latent_dim=HYPER_PARAMS[env_name+'dynamics']['latent_dim'])  # latent dimension needs to align with the trained DynamicsEncoder \n",
    "elif Type == 'VAEDynamicsNetwork': # variational auto-encoder\n",
    "    encoder = DynamicsVariationalEncoder(param_dim=len(DYNAMICS_PARAMS[env_name+'dynamics']), latent_dim=HYPER_PARAMS[env_name+'dynamics']['latent_dim'])  # \n",
    "encoder.load_state_dict(torch.load(path+'/data/dynamics_data/{}/model/{}_dim{}/encoder'.format(env_name, Type, str(len(DYNAMICS_PARAMS[env_name+'dynamics'])))))\n",
    "encoder.eval()\n",
    "\n",
    "# normalize the data\n",
    "[norm_mean, norm_std] = np.load(path+'/data/dynamics_data/{}/norm_factor.npy'.format(env_name))\n",
    "print('norm factors: ', norm_mean, norm_std)\n",
    "params_ = (params - norm_mean)/norm_std\n",
    "params_ = torch.FloatTensor([params_])\n",
    "# print(params.shape)\n",
    "mu, logvar = encoder(params_)\n",
    "true_alpha = mu.detach().cpu().numpy()[0]\n",
    "print('true encoded parameters: ', true_alpha)"
   ]
  },
  {
   "cell_type": "markdown",
   "metadata": {},
   "source": [
    "## Bayesian optimization"
   ]
  },
  {
   "cell_type": "code",
   "execution_count": null,
   "metadata": {},
   "outputs": [],
   "source": [
    "import numpy as np\n",
    "from matplotlib import pyplot as plt\n",
    "import torch\n",
    "import sys, os\n",
    "sys.path.append(os.path.dirname(os.getcwd()))\n",
    "from environment import envs\n",
    "from dynamics_predict.defaults import DYNAMICS_PARAMS, HYPER_PARAMS\n",
    "from bayes_opt import BayesianOptimization\n",
    "from dynamics_predict.dynamics_networks import DynamicsNetwork\n",
    "\n",
    "\n",
    "class EmbeddingBayesianOptimization():\n",
    "    def __init__(self, Env_name, data_path, dynamics_model_path):\n",
    "        self.x=sa\n",
    "        self.y=s_\n",
    "#         self.x = tocrch.Tensor(np.load(data_path+'sa.npy'))\n",
    "#         self.y = torh.Tensor(np.load(data_path+'s_.npy'))\n",
    "        env = envs[Env_name]()\n",
    "        self.env_name = Env_name\n",
    "        self.dynamics_model = DynamicsNetwork(state_space=env.observation_space, action_space=env.action_space, \\\n",
    "                                              num_hidden_layers=6, param_dim=HYPER_PARAMS[self.env_name+'dynamics']['latent_dim'])\n",
    "        self.dynamics_model.load_state_dict(torch.load(dynamics_model_path))\n",
    "\n",
    "    def get_params_bound(self,):\n",
    "        v_limit = 10.\n",
    "        bounds = {'alpha_{}'.format(i): [-v_limit, v_limit] for i in range(HYPER_PARAMS[self.env_name+'dynamics']['latent_dim'])}\n",
    "        return bounds\n",
    "    \n",
    "    def black_box_function(self, **alpha):\n",
    "        \"\"\"Function with unknown internals we wish to maximize.\n",
    "        This is just serving as an example, for all intents and\n",
    "        purposes think of the internals of this function, i.e.: the process\n",
    "        which generates its output values, as unknown.\n",
    "        \"\"\"\n",
    "        x=torch.cat((self.x, torch.Tensor(list(alpha.values())).repeat(self.x.shape[0],1)),axis=-1)\n",
    "        y_=self.dynamics_model(x).detach().cpu().numpy()\n",
    "\n",
    "        loss = np.square(np.subtract(self.y, y_)).mean()\n",
    "\n",
    "        return -loss  # BO gives the maximum, so negagive loss\n",
    "\n",
    "\n",
    "    def optimize(self, random_init=20, n_iter=500, result_path='params_bo.npy'):\n",
    "        params_bound = self.get_params_bound()\n",
    "\n",
    "        optimizer = BayesianOptimization(\n",
    "            f=self.black_box_function,\n",
    "            pbounds=params_bound,  # Here it defines the parameters to be randomized, which should also match with input arguments of black_box_function()\n",
    "            verbose=2,  # verbose =2 print each iteration, verbose = 1 prints only when a maximum is observed, verbose = 0 is silent\n",
    "            random_state=1,\n",
    "        )\n",
    "        \n",
    "#         optimizer.probe(  # probe a certain datapoint at the beginning\n",
    "#         params={\"alpha_0\": -1.0045, \"alpha_1\": 0.3682}, lazy=True)\n",
    "\n",
    "        optimizer.maximize(\n",
    "            init_points=random_init,\n",
    "            n_iter=n_iter,\n",
    "        )\n",
    "\n",
    "        print(optimizer.max['params'])\n",
    "        optimized_params = optimizer.max['params']\n",
    "        np.save(result_path, [params_bound, optimized_params])\n",
    "        return optimizer.res\n"
   ]
  },
  {
   "cell_type": "code",
   "execution_count": null,
   "metadata": {},
   "outputs": [],
   "source": [
    "dynamics_model_path = path+'/data/dynamics_data/{}/model/{}_dim{}/dynamics'.format(env_name, Type, str(param_dim))\n",
    "\n",
    "data_path = path+'/data/dynamics_data/'+env_name+'/test_dynamics.npy'\n",
    "\n",
    "ebo = EmbeddingBayesianOptimization(env_name, data_path, dynamics_model_path)\n",
    "optimization_records = ebo.optimize()\n",
    "np.save('../data/imgs/{}/bo{}_data.npy'.format(env_name, idx), optimization_records)"
   ]
  },
  {
   "cell_type": "code",
   "execution_count": null,
   "metadata": {},
   "outputs": [],
   "source": [
    "from matplotlib.colors import LogNorm\n",
    "from matplotlib import cm\n",
    "import scipy.interpolate\n",
    "import matplotlib\n",
    "import numpy as np\n",
    "import matplotlib.pyplot as plt\n",
    "# idx=5\n",
    "font = {\n",
    "#         'family' : 'normal',\n",
    "#         'weight' : 'bold',\n",
    "        'size'   : 16}\n",
    "optimization_records = np.load('../data/imgs/{}/bo{}_data.npy'.format(env_name, idx), allow_pickle=True)\n",
    "matplotlib.rc('font', **font)\n",
    "\n",
    "z=[]\n",
    "x=[]\n",
    "y=[]\n",
    "alpha_id = [0,1]\n",
    "for i, res in enumerate(optimization_records):\n",
    "#     print(\"Iteration {}: \\n\\t{}\".format(i, res))\n",
    "    z.append(res['target'])\n",
    "    x.append(res['params']['alpha_{}'.format(str(alpha_id[0]))])\n",
    "    y.append(res['params']['alpha_{}'.format(str(alpha_id[1]))])\n",
    "\n",
    "x=np.array(x)\n",
    "y=np.array(y)\n",
    "z=np.array(z)\n",
    "\n",
    "# the optimal point found by BO\n",
    "x_bo = x[np.argmax(z)]\n",
    "y_bo = y[np.argmax(z)]\n",
    "\n",
    "xmin = x.min()\n",
    "xmax = x.max()\n",
    "ymin = y.min()\n",
    "ymax = y.max()\n",
    "grid_x, grid_y = np.mgrid[xmin:xmax:500j, ymin:ymax:500j]\n",
    "values = scipy.interpolate.griddata((x, y), z, (grid_x, grid_y), method='linear')\n",
    "plt.figure(figsize=(4,3))\n",
    "plt.imshow(values, origin='lower', extent=[xmin, xmax, ymin, ymax],\n",
    "          aspect='auto', cmap='inferno')\n",
    "plt.plot(x,y, '+', alpha=0.8)\n",
    "plt.xlabel(r'$\\alpha_{}$'.format(str(alpha_id[0])))\n",
    "plt.ylabel(r'$\\alpha_{}$'.format(str(alpha_id[1])))\n",
    "plt.colorbar()\n",
    "print(x_bo, y_bo)\n",
    "plt.scatter(x_bo, y_bo, s=600, marker=\"*\", c='white')\n",
    "# plt.scatter(*true_alpha, s=300, marker=\".\", c='red', alpha=0.8)\n",
    "plt.plot(x_bo, y_bo, \"*\", c='red', markersize=20, alpha=0.6)\n",
    "\n",
    "plt.plot(*true_alpha[alpha_id], '^', c='lime', markersize=10, alpha=0.8)\n",
    "\n",
    "plt.savefig('../data/imgs/{}/bo{}.pdf'.format(env_name, idx), bbox_inches='tight')\n",
    "plt.show()\n"
   ]
  },
  {
   "cell_type": "code",
   "execution_count": null,
   "metadata": {},
   "outputs": [],
   "source": [
    "from matplotlib.colors import LogNorm\n",
    "from matplotlib import cm\n",
    "\n",
    "z=[]\n",
    "x=[]\n",
    "y=[]\n",
    "for i, res in enumerate(optimization_records):\n",
    "#     print(\"Iteration {}: \\n\\t{}\".format(i, res))\n",
    "    z.append(res['target'])\n",
    "    x.append(res['params']['alpha_0'])\n",
    "    y.append(res['params']['alpha_1'])\n",
    "# x = y = np.linspace(-10, 10, 300)\n",
    "# X, Y = np.meshgrid(x, y)\n",
    "# x = X.ravel()\n",
    "# y = Y.ravel()\n",
    "x=np.array(x)\n",
    "y=np.array(y)\n",
    "z=np.array(z)\n",
    "xmin = x.min()\n",
    "xmax = x.max()\n",
    "ymin = y.min()\n",
    "ymax = y.max()\n",
    "fig, axs = plt.subplots(ncols=1, sharey=True, figsize=(7, 4))\n",
    "# fig.subplots_adjust(hspace=0.5, left=0.07, right=0.93)\n",
    "ax = axs # ax = axs[k]\n",
    "hb = ax.hexbin(x, y, C=z, gridsize=50, cmap='spring', bins=None)  # 'inferno'\n",
    "ax.axis([xmin, xmax, ymin, ymax])\n",
    "ax.set_title(\"Hexagon binning\")\n",
    "cb = fig.colorbar(hb, ax=ax)\n",
    "cb.set_label('counts')\n",
    "# plt.colorbar()\n",
    "plt.show()"
   ]
  },
  {
   "cell_type": "code",
   "execution_count": null,
   "metadata": {},
   "outputs": [],
   "source": [
    "np.pi/4"
   ]
  },
  {
   "cell_type": "code",
   "execution_count": null,
   "metadata": {},
   "outputs": [],
   "source": []
  }
 ],
 "metadata": {
  "interpreter": {
   "hash": "28c6861e59928cb790236f7047915368f37afc12f670e78fd0101a6f825a02b1"
  },
  "kernelspec": {
   "display_name": "Python 3.7.0 64-bit ('x': conda)",
   "name": "python3"
  },
  "language_info": {
   "codemirror_mode": {
    "name": "ipython",
    "version": 3
   },
   "file_extension": ".py",
   "mimetype": "text/x-python",
   "name": "python",
   "nbconvert_exporter": "python",
   "pygments_lexer": "ipython3",
   "version": "3.7.0"
  }
 },
 "nbformat": 4,
 "nbformat_minor": 2
}
