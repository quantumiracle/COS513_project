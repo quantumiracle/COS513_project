{
 "cells": [
  {
   "cell_type": "code",
   "execution_count": 2,
   "metadata": {},
   "outputs": [],
   "source": [
    "import torch\n",
    "import pandas as pd\n",
    "import numpy as np\n",
    "import matplotlib.pyplot as plt"
   ]
  },
  {
   "cell_type": "code",
   "execution_count": 3,
   "metadata": {},
   "outputs": [
    {
     "name": "stdout",
     "output_type": "stream",
     "text": [
      "Requirement already satisfied: pyro-ppl in /home/quantumiracle/anaconda3/envs/x/lib/python3.7/site-packages (1.8.1)\n",
      "Requirement already satisfied: pyro-api>=0.1.1 in /home/quantumiracle/anaconda3/envs/x/lib/python3.7/site-packages (from pyro-ppl) (0.1.2)\n",
      "Requirement already satisfied: torch>=1.11.0 in /home/quantumiracle/anaconda3/envs/x/lib/python3.7/site-packages (from pyro-ppl) (1.11.0)\n",
      "Requirement already satisfied: numpy>=1.7 in /home/quantumiracle/anaconda3/envs/x/lib/python3.7/site-packages (from pyro-ppl) (1.17.5)\n",
      "Requirement already satisfied: opt-einsum>=2.3.2 in /home/quantumiracle/anaconda3/envs/x/lib/python3.7/site-packages (from pyro-ppl) (3.3.0)\n",
      "Requirement already satisfied: tqdm>=4.36 in /home/quantumiracle/anaconda3/envs/x/lib/python3.7/site-packages (from pyro-ppl) (4.62.1)\n",
      "Requirement already satisfied: typing-extensions in /home/quantumiracle/anaconda3/envs/x/lib/python3.7/site-packages (from torch>=1.11.0->pyro-ppl) (3.10.0.0)\n"
     ]
    }
   ],
   "source": [
    "!pip3 install pyro-ppl"
   ]
  },
  {
   "cell_type": "code",
   "execution_count": 8,
   "metadata": {},
   "outputs": [
    {
     "name": "stdout",
     "output_type": "stream",
     "text": [
      "parameter dimension:  5\n",
      "number of samples in dest data:  3549\n",
      "(3549, 11) (3549, 1) (3549, 5) (3549, 11)\n"
     ]
    }
   ],
   "source": [
    "import os\n",
    "path = os.path.abspath(os.path.join(os.getcwd(),\"..\"))\n",
    "import sys\n",
    "sys.path.append(os.path.dirname(os.getcwd()))\n",
    "from dynamics_predict.defaults import DYNAMICS_PARAMS, HYPER_PARAMS\n",
    "\n",
    "env_name = 'inverteddoublependulum'\n",
    "data_path = path+'/data/dynamics_data/'+env_name+'/dynamics.npy'\n",
    "param_dim = len(DYNAMICS_PARAMS[env_name+'dynamics'])\n",
    "print('parameter dimension: ', param_dim)\n",
    "\n",
    "train_data = np.load(data_path, allow_pickle=True)\n",
    "print('number of samples in dest data: ', len(train_data))\n",
    "# split data\n",
    "data_s, data_a, data_param, data_s_ = [], [], [], []\n",
    "for d in train_data:\n",
    "    [s,a,param], s_ = d\n",
    "    data_s.append(s)\n",
    "    data_a.append(a)\n",
    "    data_param.append(param)\n",
    "    data_s_.append(s_)\n",
    "\n",
    "data_s = np.array(data_s)\n",
    "data_a = np.array(data_a)\n",
    "data_param = np.array(data_param)\n",
    "data_s_ = np.array(data_s_)\n",
    "\n",
    "print(data_s.shape, data_a.shape, data_param.shape, data_s_.shape)"
   ]
  },
  {
   "cell_type": "code",
   "execution_count": 49,
   "metadata": {},
   "outputs": [
    {
     "name": "stdout",
     "output_type": "stream",
     "text": [
      "(3549, 23) (3549, 5)\n"
     ]
    }
   ],
   "source": [
    "x = np.concatenate((data_s,data_a, data_s_), axis=-1)\n",
    "y = data_param\n",
    "print(x.shape, y.shape)"
   ]
  },
  {
   "cell_type": "code",
   "execution_count": 50,
   "metadata": {},
   "outputs": [],
   "source": [
    "import pyro\n",
    "import pyro.distributions as dist\n",
    "from pyro.nn import PyroModule, PyroSample\n",
    "import torch.nn as nn\n",
    "from pyro.infer.autoguide import AutoDiagonalNormal\n",
    "from pyro.infer import SVI, Trace_ELBO, Predictive\n",
    "from tqdm.auto import trange, tqdm"
   ]
  },
  {
   "cell_type": "code",
   "execution_count": 136,
   "metadata": {},
   "outputs": [
    {
     "name": "stdout",
     "output_type": "stream",
     "text": [
      "23 5\n"
     ]
    }
   ],
   "source": [
    "x_dim = x.shape[1]\n",
    "y_dim = y.shape[1]\n",
    "print(x_dim, y_dim)\n",
    "\n",
    "class Model(PyroModule):\n",
    "    def __init__(self, h1=20, h2=20):\n",
    "        super().__init__()\n",
    "        self.fc1 = PyroModule[nn.Linear](x_dim, h1)\n",
    "        self.fc1.weight = PyroSample(dist.Normal(0., 1.).expand([h1, x_dim]).to_event(2))\n",
    "        self.fc1.bias = PyroSample(dist.Normal(0., 1.).expand([h1]).to_event(1))\n",
    "        self.fc2 = PyroModule[nn.Linear](h1, h2)\n",
    "        self.fc2.weight = PyroSample(dist.Normal(0., 1.).expand([h2, h1]).to_event(2))\n",
    "        self.fc2.bias = PyroSample(dist.Normal(0., 1.).expand([h2]).to_event(1))\n",
    "        self.fc3 = PyroModule[nn.Linear](h2, y_dim)\n",
    "        self.fc3.weight = PyroSample(dist.Normal(0., 1.).expand([y_dim, h2]).to_event(2))\n",
    "        self.fc3.bias = PyroSample(dist.Normal(0., 1.).expand([y_dim]).to_event(1))\n",
    "        self.relu = nn.ReLU()\n",
    "\n",
    "    def forward(self, x, y=None):\n",
    "        batch_size = x.shape[0]\n",
    "        # x = x.reshape(-1, 1)\n",
    "        x = self.relu(self.fc1(x))\n",
    "        x = self.relu(self.fc2(x))\n",
    "        mu = self.fc3(x).squeeze()\n",
    "        sigma = pyro.sample(\"sigma\", dist.Uniform(0., 1.).expand([y_dim]).to_event(1))  # the to_event(1) is necessary, you’ll need to call .to_event(1) to use scalar distributions like Normal as a joint diagonal distributions over multiple variables: see: https://forum.pyro.ai/t/simple-gmm-in-pyro/3047/3\n",
    "        # print(mu.shape, sigma.shape, y.shape)\n",
    "\n",
    "        with pyro.plate(\"data\", batch_size):\n",
    "            # sigma = pyro.sample(\"sigma\", dist.Uniform(0., 1.).expand([y_dim]).to_event(1))  \n",
    "            obs = pyro.sample(\"obs\", dist.Normal(mu, sigma).to_event(1), obs=y) # the to_event(1) is necessary\n",
    "        return mu"
   ]
  },
  {
   "cell_type": "code",
   "execution_count": 137,
   "metadata": {},
   "outputs": [
    {
     "name": "stderr",
     "output_type": "stream",
     "text": [
      "100%|██████████| 20/20 [00:00<00:00, 180.74it/s, loss=95.852]\n"
     ]
    }
   ],
   "source": [
    "model = Model()\n",
    "guide = AutoDiagonalNormal(model)\n",
    "adam = pyro.optim.Adam({\"lr\": 1e-3})\n",
    "svi = SVI(model, guide, adam, loss=Trace_ELBO())\n",
    "\n",
    "pyro.clear_param_store()\n",
    "bar = trange(20)\n",
    "x_train = torch.from_numpy(x).float()\n",
    "y_train = torch.from_numpy(y).float()\n",
    "\n",
    "for epoch in bar:\n",
    "    loss = svi.step(x_train, y_train)\n",
    "    # print(loss)\n",
    "    bar.set_postfix(loss=f'{loss / x.shape[0]:.3f}')"
   ]
  },
  {
   "cell_type": "code",
   "execution_count": 138,
   "metadata": {},
   "outputs": [
    {
     "name": "stdout",
     "output_type": "stream",
     "text": [
      "torch.Size([10, 23])\n",
      "[[-1.4620235  -0.9292353  -2.3858504  ... -1.5019815  -1.8051643\n",
      "  -2.8081913 ]\n",
      " [ 1.2608469   1.4969504   2.1020446  ...  0.26011953  1.8149033\n",
      "   1.5758591 ]\n",
      " [ 0.79152566  0.92237675  1.3267851  ... -0.35175693  1.1348053\n",
      "   1.0248308 ]\n",
      " [-1.4267539  -0.08124174 -0.70871776 ... -0.19416465 -1.2698132\n",
      "  -1.2513993 ]\n",
      " [-0.23448806 -1.2992532  -0.70612466 ... -2.1950686  -1.2392956\n",
      "   0.31301618]] [[1.4301293  1.3278846  1.8229095  ... 1.5404499  1.7940197  2.0547945 ]\n",
      " [1.4298494  1.1652166  1.8705648  ... 1.3980244  1.4551692  0.9440567 ]\n",
      " [1.0242914  0.63166404 1.1168156  ... 0.56255925 0.6149589  0.73265785]\n",
      " [0.57261705 0.900117   0.68755174 ... 0.5758168  0.8907142  0.9437713 ]\n",
      " [0.91220987 1.0359749  1.8830494  ... 1.6415218  0.8795121  0.97397715]]\n"
     ]
    }
   ],
   "source": [
    "predictive = Predictive(model, guide=guide, num_samples=500)\n",
    "x_test = x_train[:10]\n",
    "print(x_test.shape)\n",
    "preds = predictive(x_test)\n",
    "\n",
    "y_pred = preds['obs'].T.detach().numpy().mean(axis=1)\n",
    "y_std = preds['obs'].T.detach().numpy().std(axis=1)\n",
    "\n",
    "print(y_pred, y_std)\n",
    "\n",
    "# fig, ax = plt.subplots(figsize=(10, 5))\n",
    "# ax.plot(x, y, 'o', markersize=1)\n",
    "# ax.plot(x_test, y_pred)\n",
    "# ax.fill_between(x_test, y_pred - y_std, y_pred + y_std,\n",
    "#                 alpha=0.5, color='#ffcd3c')"
   ]
  },
  {
   "cell_type": "code",
   "execution_count": null,
   "metadata": {},
   "outputs": [],
   "source": []
  }
 ],
 "metadata": {
  "interpreter": {
   "hash": "28c6861e59928cb790236f7047915368f37afc12f670e78fd0101a6f825a02b1"
  },
  "kernelspec": {
   "display_name": "Python 3.7.0 64-bit ('x': conda)",
   "name": "python3"
  },
  "language_info": {
   "codemirror_mode": {
    "name": "ipython",
    "version": 3
   },
   "file_extension": ".py",
   "mimetype": "text/x-python",
   "name": "python",
   "nbconvert_exporter": "python",
   "pygments_lexer": "ipython3",
   "version": "3.7.0"
  }
 },
 "nbformat": 4,
 "nbformat_minor": 2
}
